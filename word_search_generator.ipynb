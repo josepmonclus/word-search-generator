{
 "cells": [
  {
   "attachments": {},
   "cell_type": "markdown",
   "metadata": {},
   "source": [
    "### Generador de sets de palabras para sopas de letra\n",
    "\n",
    "Se usarán los datasets de palabras de la carpeta [datasets/](./datasets/)"
   ]
  },
  {
   "cell_type": "code",
   "execution_count": 1,
   "metadata": {},
   "outputs": [],
   "source": [
    "import pandas as pd\n",
    "import os\n",
    "import shutil\n",
    "from unidecode import unidecode"
   ]
  },
  {
   "cell_type": "code",
   "execution_count": 2,
   "metadata": {},
   "outputs": [],
   "source": [
    "dataset_path = './datasets/ES_palabras_sin_conjugaciones.txt'\n",
    "output_path = './output/'\n",
    "num_sopas = 10\n",
    "palabras_x_sopa = 15"
   ]
  },
  {
   "attachments": {},
   "cell_type": "markdown",
   "metadata": {},
   "source": [
    "**Load dataset**\n",
    "\n",
    "Cargamos el dataset y eliminamos las palabras que no queremos en las sopas de letras"
   ]
  },
  {
   "cell_type": "code",
   "execution_count": 6,
   "metadata": {},
   "outputs": [
    {
     "name": "stdout",
     "output_type": "stream",
     "text": [
      "108790\n",
      "81792\n",
      "81724\n",
      "79436\n"
     ]
    }
   ],
   "source": [
    "df = pd.read_csv(dataset_path)\n",
    "print(len(df))\n",
    "\n",
    "# filtrar las palabras de menos de 4 letras o más de 10\n",
    "columna_palabras_filtrada = df['palabras'].apply(lambda x: len(x) < 4 or len(x) > 10)\n",
    "indices = df[columna_palabras_filtrada].index\n",
    "\n",
    "# borramos las palabras largas ( > 10)\n",
    "df = df.drop(indices)\n",
    "print(len(df))\n",
    "\n",
    "# index de las palabras con espacios\n",
    "indices = df[df['palabras'].str.contains(' ')].index\n",
    "\n",
    "# borramos las palabras con espacios\n",
    "df = df.drop(indices)\n",
    "print(len(df))\n",
    "\n",
    "# index de las palabras con ñ\n",
    "indices = df[df['palabras'].str.contains('ñ')].index\n",
    "\n",
    "# borramos las palabras con ñ\n",
    "df = df.drop(indices)\n",
    "print(len(df))"
   ]
  },
  {
   "attachments": {},
   "cell_type": "markdown",
   "metadata": {},
   "source": [
    "**Generar sets en output**"
   ]
  },
  {
   "cell_type": "code",
   "execution_count": 36,
   "metadata": {},
   "outputs": [
    {
     "name": "stdout",
     "output_type": "stream",
     "text": [
      "Fin!\n"
     ]
    }
   ],
   "source": [
    "if not os.path.exists(output_path):\n",
    "    os.makedirs(output_path)\n",
    "else:\n",
    "    shutil.rmtree(output_path)\n",
    "    os.makedirs(output_path)\n",
    "    \n",
    "for i in range(1, num_sopas + 1):\n",
    "    if not os.path.exists(output_path + str(i)):\n",
    "        os.makedirs(output_path + str(i))\n",
    "    \n",
    "    sample_palabras = df['palabras'].sample(n=palabras_x_sopa)\n",
    "    sample_palabras = sample_palabras.sort_values()\n",
    "    sample_palabras = sample_palabras.str.upper()\n",
    "\n",
    "    sample_palabras.to_csv(output_path + str(i) + '/palabras.txt', index=False, header=False)\n",
    "    \n",
    "    sample_palabras_sin_acentos = sample_palabras.apply(unidecode)\n",
    "    sample_palabras_sin_acentos.to_csv(output_path + str(i) + '/palabras_sin_acentos.txt', index=False, header=False)\n",
    "    \n",
    "print(\"Fin!\")"
   ]
  },
  {
   "attachments": {},
   "cell_type": "markdown",
   "metadata": {},
   "source": [
    "## Generación de imagenes de las sopas"
   ]
  },
  {
   "cell_type": "code",
   "execution_count": 37,
   "metadata": {},
   "outputs": [],
   "source": [
    "import string\n",
    "import random\n",
    "import numpy as np\n",
    "import cairo\n",
    "\n",
    "output_path = './output/'\n",
    "\n",
    "ncols = 15\n",
    "nrows = 15\n",
    "\n",
    "letras = list(string.ascii_uppercase)"
   ]
  },
  {
   "cell_type": "code",
   "execution_count": 38,
   "metadata": {},
   "outputs": [],
   "source": [
    "def get_direction_and_start_position(matrix, word):\n",
    "        correct_position = False\n",
    "        \n",
    "        while not correct_position:\n",
    "            # select random direction (0 = W -> E, 1 = N -> S, 2 = NW -> SE) \n",
    "            direction = random.randint(0, 2)\n",
    "            \n",
    "            if direction == 0:\n",
    "                x = random.randint(0, nrows - 1)\n",
    "                y = random.randint(0, ncols - len(word))\n",
    "            elif direction == 1:\n",
    "                x = random.randint(0, nrows - len(word))\n",
    "                y = random.randint(0, ncols - 1)\n",
    "            else:\n",
    "                x = random.randint(0, nrows - len(word))\n",
    "                y = random.randint(0, ncols - len(word))\n",
    "            \n",
    "            correct_position = True\n",
    "            xtmp = x\n",
    "            ytmp = y\n",
    "            for letter in word:\n",
    "                if matrix[xtmp][ytmp] != '' and matrix[xtmp][ytmp] != letter:\n",
    "                    correct_position = False\n",
    "                    break\n",
    "                \n",
    "                if correct_position:    \n",
    "                    if direction == 0:\n",
    "                        ytmp += 1\n",
    "                    elif direction == 1:\n",
    "                        xtmp += 1\n",
    "                    else:\n",
    "                        xtmp += 1\n",
    "                        ytmp += 1                \n",
    "        \n",
    "        return direction, x, y\n",
    "    \n",
    "def generate_word_search_matrix(words):\n",
    "    matrix = np.zeros((nrows, ncols), dtype=str)\n",
    "    list_solution = []\n",
    "\n",
    "    for word in words:\n",
    "        direction, x, y = get_direction_and_start_position(matrix, word)\n",
    "        list_solution.append([word, direction, x, y])\n",
    "        \n",
    "        for letter in word:\n",
    "            matrix[x][y] = letter\n",
    "            \n",
    "            if direction == 0:\n",
    "                y += 1\n",
    "            elif direction == 1:\n",
    "                x += 1\n",
    "            else:\n",
    "                x += 1\n",
    "                y += 1    \n",
    "            \n",
    "    for i in range(nrows):\n",
    "        for j in range(ncols):\n",
    "            if matrix[i][j] == '':\n",
    "                matrix[i][j] = random.choice(letras)\n",
    "    \n",
    "    return matrix, list_solution"
   ]
  },
  {
   "cell_type": "code",
   "execution_count": 39,
   "metadata": {},
   "outputs": [],
   "source": [
    "def generate_word_search_images(output_folder, matrix, list_solution):\n",
    "    \n",
    "    width = 30\n",
    "    \n",
    "    surface = cairo.SVGSurface(output_folder + \"word_search.svg\", (width * ncols), (width * nrows))\n",
    "    ctx = cairo.Context(surface)\n",
    "    ctx.rectangle(0, 0, (width * ncols), (width * nrows))\n",
    "    ctx.set_source_rgb(1, 1, 1)\n",
    "    ctx.fill()\n",
    "\n",
    "    ctx.select_font_face('Arial', cairo.FONT_SLANT_NORMAL, cairo.FONT_WEIGHT_NORMAL)\n",
    "    ctx.set_font_size(width)\n",
    "    ctx.set_source_rgb(0, 0, 0)\n",
    "\n",
    "    for row in range(len(matrix)):\n",
    "        for column in range(len(matrix[row])):\n",
    "            letter = matrix[row][column]\n",
    "            te = ctx.text_extents(letter)\n",
    "            x = column * width + (width - te.width) / 2\n",
    "            y = row * width + (width + te.height) / 2\n",
    "            ctx.move_to(x, y)\n",
    "            ctx.show_text(letter)\n",
    "\n",
    "    surface.write_to_png(output_folder + 'word_search.png')\n",
    "    \n",
    "    surface.finish()\n",
    "    \n",
    "    surface = cairo.SVGSurface(output_folder + \"solution.svg\", (width * ncols), (width * nrows))\n",
    "    ctx = cairo.Context(surface)\n",
    "    ctx.rectangle(0, 0, (width * ncols), (width * nrows))\n",
    "    ctx.set_source_rgb(1, 1, 1)\n",
    "    ctx.fill()\n",
    "\n",
    "    ctx.select_font_face('Arial', cairo.FONT_SLANT_NORMAL, cairo.FONT_WEIGHT_NORMAL)\n",
    "    ctx.set_font_size(width)\n",
    "    ctx.set_source_rgb(0, 0, 0)\n",
    "\n",
    "    for row in range(len(matrix)):\n",
    "        for column in range(len(matrix[row])):\n",
    "            letter = matrix[row][column]\n",
    "            te = ctx.text_extents(letter)\n",
    "            x = column * width + (width - te.width) / 2\n",
    "            y = row * width + (width + te.height) / 2\n",
    "            ctx.move_to(x, y)\n",
    "            ctx.show_text(letter)\n",
    "    \n",
    "    ctx.set_source_rgb(0, 0, 0)\n",
    "    ctx.set_line_width(3)\n",
    "        \n",
    "    # Lines for solutions\n",
    "    # Directions (0 = W -> E, 1 = N -> S, 2 = NW -> SE)\n",
    "    for solution in list_solution:\n",
    "        length = len(solution[0])\n",
    "        direction = solution[1]\n",
    "        y = solution[2]\n",
    "        x = solution[3]\n",
    "        \n",
    "        ctx.move_to(\n",
    "            (x * width) + (width / 2), # row\n",
    "            (y * width) + (width / 2)) # col\n",
    "        \n",
    "        if direction == 0:\n",
    "            ctx.line_to(\n",
    "                ((x + length - 1) * width) + (width / 2), \n",
    "                ((y) * width) + (width / 2))\n",
    "        elif direction == 1:\n",
    "            ctx.line_to(\n",
    "                ((x) * width) + (width / 2), \n",
    "                ((y + length - 1) * width) + (width / 2))\n",
    "        else:\n",
    "            ctx.line_to(\n",
    "                ((x + length - 1) * width) + (width / 2), \n",
    "                ((y + length - 1) * width) + (width / 2))\n",
    "            \n",
    "        ctx.stroke()\n",
    "    \n",
    "    surface.write_to_png(output_folder + 'solution.png')\n",
    "    \n",
    "    surface.finish()"
   ]
  },
  {
   "cell_type": "code",
   "execution_count": 40,
   "metadata": {},
   "outputs": [
    {
     "name": "stdout",
     "output_type": "stream",
     "text": [
      "PUZZLE:  1\n",
      "PUZZLE:  1  Done!\n",
      "PUZZLE:  2\n",
      "PUZZLE:  2  Done!\n",
      "PUZZLE:  3\n",
      "PUZZLE:  3  Done!\n",
      "PUZZLE:  4\n",
      "PUZZLE:  4  Done!\n",
      "PUZZLE:  5\n",
      "PUZZLE:  5  Done!\n",
      "PUZZLE:  6\n",
      "PUZZLE:  6  Done!\n",
      "PUZZLE:  7\n",
      "PUZZLE:  7  Done!\n",
      "PUZZLE:  8\n",
      "PUZZLE:  8  Done!\n",
      "PUZZLE:  9\n",
      "PUZZLE:  9  Done!\n",
      "PUZZLE:  10\n",
      "PUZZLE:  10  Done!\n"
     ]
    }
   ],
   "source": [
    "for i in range(1, num_sopas + 1):\n",
    "    print('PUZZLE: ', i)\n",
    "    words_path = output_path + str(i) + '/palabras_sin_acentos.txt'\n",
    "\n",
    "    with open(words_path, 'r') as f:\n",
    "        words = [linea.strip() for linea in f]\n",
    "\n",
    "    matrix, list_solution = generate_word_search_matrix(words)\n",
    "\n",
    "    generate_word_search_images(output_path + str(i) + '/', matrix, list_solution)\n",
    "    \n",
    "    print('PUZZLE: ', i, ' Done!')"
   ]
  }
 ],
 "metadata": {
  "kernelspec": {
   "display_name": ".venv",
   "language": "python",
   "name": "python3"
  },
  "language_info": {
   "codemirror_mode": {
    "name": "ipython",
    "version": 3
   },
   "file_extension": ".py",
   "mimetype": "text/x-python",
   "name": "python",
   "nbconvert_exporter": "python",
   "pygments_lexer": "ipython3",
   "version": "3.10.0"
  },
  "orig_nbformat": 4,
  "vscode": {
   "interpreter": {
    "hash": "897974f0d3a9a2cf24f3b08f1888c75bb8c60066947a88ea92b6410d74bc6c0f"
   }
  }
 },
 "nbformat": 4,
 "nbformat_minor": 2
}
