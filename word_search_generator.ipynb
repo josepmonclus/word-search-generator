{
 "cells": [
  {
   "attachments": {},
   "cell_type": "markdown",
   "metadata": {},
   "source": [
    "### Generador de sets de palabras para sopas de letra\n",
    "\n",
    "Se usarán los datasets de palabras de la carpeta [datasets/](./datasets/)"
   ]
  },
  {
   "cell_type": "code",
   "execution_count": 3,
   "metadata": {},
   "outputs": [],
   "source": [
    "import pandas as pd\n",
    "import os\n",
    "from unidecode import unidecode"
   ]
  },
  {
   "cell_type": "code",
   "execution_count": 6,
   "metadata": {},
   "outputs": [],
   "source": [
    "dataset_path = './datasets/0_palabras_todas_no_conjugaciones.txt'\n",
    "output_path = './output/'\n",
    "num_sopas = 10\n",
    "palabras_x_sopa = 15"
   ]
  },
  {
   "attachments": {},
   "cell_type": "markdown",
   "metadata": {},
   "source": [
    "**Load dataset**\n",
    "\n",
    "Cargamos el dataset y eliminamos las palabras que contienen espacios"
   ]
  },
  {
   "cell_type": "code",
   "execution_count": 129,
   "metadata": {},
   "outputs": [
    {
     "name": "stdout",
     "output_type": "stream",
     "text": [
      "108790\n",
      "82335\n",
      "82267\n",
      "79969\n"
     ]
    }
   ],
   "source": [
    "df = pd.read_csv(dataset_path)\n",
    "print(len(df))\n",
    "\n",
    "# filtrar las palabras de más de 10 letras\n",
    "columna_palabras_filtrada = df['palabras'].apply(lambda x: len(x) > 10)\n",
    "indices = df[columna_palabras_filtrada].index\n",
    "\n",
    "# borramos las palabras largas ( > 10)\n",
    "df = df.drop(indices)\n",
    "print(len(df))\n",
    "\n",
    "# index de las palabras con espacios\n",
    "indices = df[df['palabras'].str.contains(' ')].index\n",
    "\n",
    "# borramos las palabras con espacios\n",
    "df = df.drop(indices)\n",
    "print(len(df))\n",
    "\n",
    "# index de las palabras con ñ\n",
    "indices = df[df['palabras'].str.contains('ñ')].index\n",
    "\n",
    "# borramos las palabras con ñ\n",
    "df = df.drop(indices)\n",
    "print(len(df))"
   ]
  },
  {
   "attachments": {},
   "cell_type": "markdown",
   "metadata": {},
   "source": [
    "**Generar sets en output**"
   ]
  },
  {
   "cell_type": "code",
   "execution_count": 130,
   "metadata": {},
   "outputs": [
    {
     "name": "stdout",
     "output_type": "stream",
     "text": [
      "Fin!\n"
     ]
    }
   ],
   "source": [
    "if not os.path.exists(output_path):\n",
    "    os.makedirs(output_path)\n",
    "    \n",
    "for i in range(1, num_sopas + 1):\n",
    "    if not os.path.exists(output_path + str(i)):\n",
    "        os.makedirs(output_path + str(i))\n",
    "    \n",
    "    sample_palabras = df['palabras'].sample(n=palabras_x_sopa)\n",
    "    sample_palabras = sample_palabras.sort_values()\n",
    "    sample_palabras = sample_palabras.str.upper()\n",
    "\n",
    "    sample_palabras.to_csv(output_path + str(i) + '/palabras.txt', index=False, header=False)\n",
    "    \n",
    "    sample_palabras_sin_acentos = sample_palabras.apply(unidecode)\n",
    "    sample_palabras_sin_acentos.to_csv(output_path + str(i) + '/palabras_sin_acentos.txt', index=False, header=False)\n",
    "    \n",
    "print(\"Fin!\")"
   ]
  },
  {
   "attachments": {},
   "cell_type": "markdown",
   "metadata": {},
   "source": [
    "## Generación de imagenes de las sopas"
   ]
  },
  {
   "cell_type": "code",
   "execution_count": 7,
   "metadata": {},
   "outputs": [],
   "source": [
    "import string\n",
    "import random\n",
    "import numpy as np\n",
    "import cairo\n",
    "\n",
    "output_path = './output/'\n",
    "\n",
    "ncols = 15\n",
    "nrows = 15\n",
    "\n",
    "letras = list(string.ascii_uppercase)"
   ]
  },
  {
   "cell_type": "code",
   "execution_count": 88,
   "metadata": {},
   "outputs": [],
   "source": [
    "def get_direction_and_start_position(matrix, word):\n",
    "        correct_position = False\n",
    "        \n",
    "        while not correct_position:\n",
    "            # select random direction (0 = W -> E, 1 = N -> S, 2 = NW -> SE) \n",
    "            direction = random.randint(0, 2)\n",
    "            \n",
    "            if direction == 0:\n",
    "                x = random.randint(0, nrows - 1)\n",
    "                y = random.randint(0, ncols - len(word))\n",
    "            elif direction == 1:\n",
    "                x = random.randint(0, nrows - len(word))\n",
    "                y = random.randint(0, ncols - 1)\n",
    "            else:\n",
    "                x = random.randint(0, nrows - len(word))\n",
    "                y = random.randint(0, ncols - len(word))\n",
    "            \n",
    "            correct_position = True\n",
    "            xtmp = x\n",
    "            ytmp = y\n",
    "            for letter in word:\n",
    "                if matrix[xtmp][ytmp] != '' and matrix[xtmp][ytmp] != letter:\n",
    "                    correct_position = False\n",
    "                    break\n",
    "                \n",
    "                if correct_position:    \n",
    "                    if direction == 0:\n",
    "                        ytmp += 1\n",
    "                    elif direction == 1:\n",
    "                        xtmp += 1\n",
    "                    else:\n",
    "                        xtmp += 1\n",
    "                        ytmp += 1                \n",
    "        \n",
    "        return direction, x, y\n",
    "    \n",
    "def generate_word_search_matrix(words):\n",
    "    matrix = np.zeros((nrows, ncols), dtype=str)\n",
    "\n",
    "    print (words)\n",
    "    for word in words:\n",
    "        direction, x, y = get_direction_and_start_position(matrix, word)\n",
    "        \n",
    "        for letter in word:\n",
    "            matrix[x][y] = letter\n",
    "            \n",
    "            if direction == 0:\n",
    "                y += 1\n",
    "            elif direction == 1:\n",
    "                x += 1\n",
    "            else:\n",
    "                x += 1\n",
    "                y += 1    \n",
    "            \n",
    "    matrix_solution = matrix.copy()\n",
    "\n",
    "    for i in range(nrows):\n",
    "        for j in range(ncols):\n",
    "            if matrix[i][j] == '':\n",
    "                matrix[i][j] = random.choice(letras)\n",
    "                matrix_solution[i][j] = ' '\n",
    "\n",
    "    return matrix, matrix_solution"
   ]
  },
  {
   "cell_type": "code",
   "execution_count": 101,
   "metadata": {},
   "outputs": [],
   "source": [
    "def generate_word_search_images(output_folder, matrix, matrix_solution):\n",
    "    \n",
    "    width = 30\n",
    "    \n",
    "    surface = cairo.SVGSurface(output_folder + \"sopa_de_letras.svg\", (width * ncols), (width * nrows))\n",
    "    ctx = cairo.Context(surface)\n",
    "    ctx.rectangle(0, 0, 500, 500)\n",
    "    ctx.set_source_rgb(1, 1, 1)\n",
    "    ctx.fill()\n",
    "\n",
    "    ctx.select_font_face('Arial', cairo.FONT_SLANT_NORMAL, cairo.FONT_WEIGHT_NORMAL)\n",
    "    ctx.set_font_size(width)\n",
    "    ctx.set_source_rgb(0, 0, 0)\n",
    "\n",
    "    for row in range(len(matrix_solution)):\n",
    "        for column in range(len(matrix_solution[row])):\n",
    "            letter = matrix_solution[row][column]\n",
    "            te = ctx.text_extents(letter)\n",
    "            x = column * width + (width - te.width) / 2\n",
    "            y = row * width + (width + te.height) / 2\n",
    "            ctx.move_to(x, y)\n",
    "            ctx.show_text(letter)\n",
    "\n",
    "    surface.write_to_png(output_folder + 'sopa_de_letras.png')\n",
    "    \n",
    "    surface.finish()"
   ]
  },
  {
   "cell_type": "code",
   "execution_count": 102,
   "metadata": {},
   "outputs": [
    {
     "name": "stdout",
     "output_type": "stream",
     "text": [
      "['ARRECIAR', 'AUTOMOVIL', 'BIOETANOL', 'CALIPICO', 'CHOTEAR', 'CORNETAZO', 'EXEGETICA', 'LODO', 'OLIVARERO', 'PIRINEO', 'SACONERIA', 'TACHUELA', 'TROCO', 'YODIZAR', 'ZAMBIANA']\n",
      "PUZZLE:\n",
      "[['H' 'M' 'S' 'P' 'K' 'A' 'N' 'M' 'D' 'K' 'Z' 'S' 'T' 'T' 'O']\n",
      " ['T' 'T' 'A' 'A' 'I' 'S' 'C' 'I' 'X' 'M' 'R' 'V' 'V' 'R' 'Y']\n",
      " ['U' 'A' 'U' 'B' 'C' 'R' 'J' 'O' 'O' 'L' 'O' 'D' 'O' 'O' 'X']\n",
      " ['M' 'C' 'T' 'S' 'I' 'O' 'I' 'P' 'R' 'M' 'O' 'I' 'Z' 'C' 'R']\n",
      " ['R' 'H' 'O' 'E' 'K' 'O' 'N' 'N' 'Y' 'N' 'R' 'M' 'S' 'O' 'S']\n",
      " ['C' 'U' 'M' 'O' 'K' 'L' 'E' 'E' 'E' 'O' 'E' 'D' 'A' 'Z' 'I']\n",
      " ['H' 'E' 'O' 'L' 'E' 'D' 'T' 'T' 'R' 'O' 'D' 'T' 'A' 'J' 'P']\n",
      " ['O' 'L' 'V' 'I' 'T' 'B' 'Q' 'H' 'A' 'I' 'S' 'I' 'A' 'P' 'S']\n",
      " ['T' 'A' 'I' 'V' 'X' 'T' 'Y' 'X' 'E' 'N' 'A' 'A' 'Z' 'Z' 'D']\n",
      " ['E' 'I' 'L' 'A' 'L' 'L' 'G' 'S' 'G' 'C' 'O' 'D' 'C' 'A' 'O']\n",
      " ['A' 'K' 'B' 'R' 'B' 'G' 'F' 'A' 'T' 'J' 'E' 'L' 'X' 'J' 'R']\n",
      " ['R' 'Q' 'N' 'E' 'D' 'L' 'E' 'X' 'E' 'G' 'E' 'T' 'I' 'C' 'A']\n",
      " ['V' 'K' 'F' 'R' 'C' 'A' 'L' 'I' 'P' 'I' 'C' 'O' 'C' 'W' 'W']\n",
      " ['T' 'H' 'Y' 'O' 'H' 'Z' 'A' 'M' 'B' 'I' 'A' 'N' 'A' 'M' 'A']\n",
      " ['W' 'Q' 'D' 'M' 'I' 'M' 'R' 'A' 'R' 'R' 'E' 'C' 'I' 'A' 'R']]\n",
      "SOLUTION:\n",
      "[[' ' ' ' 'S' 'P' ' ' ' ' ' ' ' ' ' ' ' ' ' ' ' ' ' ' 'T' ' ']\n",
      " [' ' 'T' 'A' 'A' 'I' ' ' 'C' ' ' ' ' ' ' ' ' ' ' ' ' 'R' ' ']\n",
      " [' ' 'A' 'U' 'B' 'C' 'R' ' ' 'O' ' ' 'L' 'O' 'D' 'O' 'O' ' ']\n",
      " [' ' 'C' 'T' ' ' 'I' 'O' 'I' ' ' 'R' ' ' ' ' ' ' ' ' 'C' ' ']\n",
      " [' ' 'H' 'O' ' ' ' ' 'O' 'N' 'N' 'Y' 'N' ' ' ' ' ' ' 'O' ' ']\n",
      " ['C' 'U' 'M' 'O' ' ' ' ' 'E' 'E' 'E' 'O' 'E' ' ' ' ' ' ' ' ']\n",
      " ['H' 'E' 'O' 'L' ' ' ' ' ' ' 'T' 'R' 'O' 'D' 'T' ' ' ' ' ' ']\n",
      " ['O' 'L' 'V' 'I' ' ' ' ' ' ' ' ' 'A' 'I' ' ' 'I' 'A' ' ' ' ']\n",
      " ['T' 'A' 'I' 'V' ' ' ' ' ' ' ' ' ' ' 'N' 'A' ' ' 'Z' 'Z' ' ']\n",
      " ['E' ' ' 'L' 'A' ' ' ' ' ' ' ' ' ' ' ' ' 'O' ' ' ' ' 'A' 'O']\n",
      " ['A' ' ' ' ' 'R' ' ' ' ' ' ' ' ' ' ' ' ' ' ' 'L' ' ' ' ' 'R']\n",
      " ['R' ' ' ' ' 'E' ' ' ' ' 'E' 'X' 'E' 'G' 'E' 'T' 'I' 'C' 'A']\n",
      " [' ' ' ' ' ' 'R' 'C' 'A' 'L' 'I' 'P' 'I' 'C' 'O' ' ' ' ' ' ']\n",
      " [' ' ' ' ' ' 'O' ' ' 'Z' 'A' 'M' 'B' 'I' 'A' 'N' 'A' ' ' ' ']\n",
      " [' ' ' ' ' ' ' ' ' ' ' ' ' ' 'A' 'R' 'R' 'E' 'C' 'I' 'A' 'R']]\n"
     ]
    }
   ],
   "source": [
    "#for i in range(1, num_sopas + 1):\n",
    "i = 1\n",
    "words_path = output_path + str(i) + '/palabras_sin_acentos.txt'\n",
    "\n",
    "#words = pd.read_csv(palabras_path, header=None )\n",
    "with open(words_path, 'r') as f:\n",
    "    words = [linea.strip() for linea in f]\n",
    "\n",
    "matrix, matrix_solution = generate_word_search_matrix(words)\n",
    "\n",
    "print('PUZZLE:')\n",
    "print(matrix)\n",
    "print('SOLUTION:')\n",
    "print(matrix_solution)\n",
    "\n",
    "generate_word_search_images(output_path + str(i) + '/', matrix, matrix_solution)"
   ]
  },
  {
   "cell_type": "code",
   "execution_count": 103,
   "metadata": {},
   "outputs": [
    {
     "name": "stdout",
     "output_type": "stream",
     "text": [
      "['PYTHON', 'PROGRAMMING', 'CODE', 'COMPUTER', 'ALGORITHM']\n",
      "[['' '' '' '' '' '' '' '' 'C' '' '' '' '' '' '']\n",
      " ['' '' '' '' '' '' '' '' 'O' '' '' 'P' '' '' '']\n",
      " ['' '' '' '' '' '' '' '' 'M' '' '' 'R' '' '' '']\n",
      " ['' '' '' '' '' '' '' '' 'P' '' '' 'O' '' '' '']\n",
      " ['' '' '' '' '' '' '' '' 'U' '' '' 'G' '' '' '']\n",
      " ['' '' '' '' '' '' '' '' 'T' 'A' '' 'R' '' '' '']\n",
      " ['' '' '' '' '' '' '' '' 'E' 'L' '' 'A' '' '' '']\n",
      " ['' '' '' '' '' '' '' '' 'R' 'G' '' 'M' '' '' '']\n",
      " ['' '' '' '' '' 'P' 'Y' 'T' 'H' 'O' 'N' 'M' '' '' '']\n",
      " ['' '' '' '' '' '' '' '' '' 'R' '' 'I' '' '' '']\n",
      " ['' '' '' '' '' '' '' '' '' 'I' '' 'N' '' '' '']\n",
      " ['' '' '' 'C' '' '' '' '' '' 'T' '' 'G' '' '' '']\n",
      " ['' '' '' '' 'O' '' '' '' '' 'H' '' '' '' '' '']\n",
      " ['' '' '' '' '' 'D' '' '' '' 'M' '' '' '' '' '']\n",
      " ['' '' '' '' '' '' 'E' '' '' '' '' '' '' '' '']]\n",
      "[['Z' 'Q' 'Y' 'H' 'Y' 'F' 'U' 'Q' 'C' 'R' 'H' 'X' 'W' 'S' 'P']\n",
      " ['Y' 'R' 'X' 'Y' 'D' 'M' 'Y' 'V' 'O' 'D' 'Z' 'P' 'J' 'H' 'N']\n",
      " ['S' 'G' 'R' 'G' 'T' 'F' 'N' 'W' 'M' 'O' 'H' 'R' 'N' 'Q' 'M']\n",
      " ['X' 'Z' 'V' 'V' 'L' 'I' 'T' 'W' 'P' 'W' 'K' 'O' 'X' 'K' 'D']\n",
      " ['H' 'A' 'T' 'K' 'Q' 'L' 'P' 'E' 'U' 'B' 'P' 'G' 'W' 'X' 'Z']\n",
      " ['T' 'L' 'E' 'O' 'G' 'M' 'Z' 'U' 'T' 'A' 'H' 'R' 'I' 'R' 'F']\n",
      " ['V' 'W' 'J' 'I' 'K' 'X' 'A' 'O' 'E' 'L' 'P' 'A' 'B' 'C' 'Y']\n",
      " ['L' 'R' 'T' 'L' 'G' 'U' 'N' 'W' 'R' 'G' 'G' 'M' 'O' 'U' 'E']\n",
      " ['Z' 'A' 'Q' 'L' 'C' 'P' 'Y' 'T' 'H' 'O' 'N' 'M' 'H' 'N' 'O']\n",
      " ['J' 'W' 'A' 'U' 'Q' 'G' 'P' 'N' 'W' 'R' 'A' 'I' 'J' 'B' 'A']\n",
      " ['O' 'E' 'P' 'K' 'Z' 'B' 'E' 'Y' 'R' 'I' 'B' 'N' 'K' 'B' 'U']\n",
      " ['C' 'V' 'V' 'C' 'E' 'O' 'M' 'F' 'N' 'T' 'O' 'G' 'V' 'K' 'D']\n",
      " ['L' 'O' 'N' 'C' 'O' 'E' 'M' 'I' 'Y' 'H' 'V' 'Y' 'A' 'I' 'N']\n",
      " ['D' 'S' 'O' 'Q' 'J' 'D' 'B' 'O' 'W' 'M' 'B' 'S' 'H' 'C' 'P']\n",
      " ['V' 'E' 'K' 'I' 'L' 'B' 'E' 'V' 'D' 'L' 'V' 'L' 'P' 'T' 'Q']]\n"
     ]
    }
   ],
   "source": [
    "def get_direction_and_start_position(matrix, word):\n",
    "    correct_position = False\n",
    "    \n",
    "    while not correct_position:\n",
    "        # select random direction (0 = W -> E, 1 = N -> S, 2 = NW -> SE) \n",
    "        direction = random.randint(0, 2)\n",
    "        \n",
    "        if direction == 0:\n",
    "            x = random.randint(0, nrows - 1)\n",
    "            y = random.randint(0, ncols - len(word))\n",
    "        elif direction == 1:\n",
    "            x = random.randint(0, nrows - len(word))\n",
    "            y = random.randint(0, ncols - 1)\n",
    "        else:\n",
    "            x = random.randint(0, nrows - len(word))\n",
    "            y = random.randint(0, ncols - len(word))\n",
    "        \n",
    "        correct_position = True\n",
    "        xtmp = x\n",
    "        ytmp = y\n",
    "        for letter in word:\n",
    "            if matrix[xtmp][ytmp] != '' and matrix[xtmp][ytmp] != letter:\n",
    "                correct_position = False\n",
    "                break\n",
    "            \n",
    "            if correct_position:    \n",
    "                if direction == 0:\n",
    "                    ytmp += 1\n",
    "                elif direction == 1:\n",
    "                    xtmp += 1\n",
    "                else:\n",
    "                    xtmp += 1\n",
    "                    ytmp += 1                \n",
    "    \n",
    "    return direction, x, y\n",
    "    \n",
    "\n",
    "words = ['PYTHON', 'PROGRAMMING', 'CODE', 'COMPUTER', 'ALGORITHM']\n",
    "matrix = np.zeros((nrows, ncols), dtype=str)\n",
    "\n",
    "print (words)\n",
    "for word in words:\n",
    "    direction, x, y = get_direction_and_start_position(matrix, word)\n",
    "    \n",
    "    for letter in word:\n",
    "        matrix[x][y] = letter\n",
    "        \n",
    "        if direction == 0:\n",
    "            y += 1\n",
    "        elif direction == 1:\n",
    "            x += 1\n",
    "        else:\n",
    "            x += 1\n",
    "            y += 1    \n",
    "        \n",
    "matrix_solution = matrix.copy()\n",
    "\n",
    "for i in range(nrows):\n",
    "    for j in range(ncols):\n",
    "        if matrix[i][j] == '':\n",
    "            matrix[i][j] = random.choice(letras)\n",
    "\n",
    "print(matrix_solution) \n",
    "print(matrix)"
   ]
  },
  {
   "cell_type": "code",
   "execution_count": 104,
   "metadata": {},
   "outputs": [
    {
     "name": "stdout",
     "output_type": "stream",
     "text": [
      "Z\n",
      "True\n",
      "True\n"
     ]
    }
   ],
   "source": [
    "xtmp = 0\n",
    "ytmp = 0\n",
    "letter = 'P'\n",
    "\n",
    "print(matrix[xtmp][ytmp])\n",
    "print (matrix[xtmp][ytmp] != '' or (matrix[xtmp][ytmp] != '' and matrix[xtmp][ytmp] != letter))\n",
    "print (matrix[xtmp][ytmp] != '' and matrix[xtmp][ytmp] != letter)\n",
    "#if matrix[xtmp][ytmp] != '' or (matrix[xtmp][ytmp] != '' and matrix[xtmp][ytmp] == letter):"
   ]
  }
 ],
 "metadata": {
  "kernelspec": {
   "display_name": ".venv",
   "language": "python",
   "name": "python3"
  },
  "language_info": {
   "codemirror_mode": {
    "name": "ipython",
    "version": 3
   },
   "file_extension": ".py",
   "mimetype": "text/x-python",
   "name": "python",
   "nbconvert_exporter": "python",
   "pygments_lexer": "ipython3",
   "version": "3.10.0"
  },
  "orig_nbformat": 4,
  "vscode": {
   "interpreter": {
    "hash": "897974f0d3a9a2cf24f3b08f1888c75bb8c60066947a88ea92b6410d74bc6c0f"
   }
  }
 },
 "nbformat": 4,
 "nbformat_minor": 2
}
